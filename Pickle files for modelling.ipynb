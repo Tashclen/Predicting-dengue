{
 "cells": [
  {
   "cell_type": "code",
   "execution_count": 2,
   "metadata": {},
   "outputs": [],
   "source": [
    "import pandas as pd\n",
    "#test data set (2008-2013) missing target: 'total cases'\n",
    "dengue_test = pd.read_csv('./dengue_features_test.csv')\n",
    "#train set with target 'total cases'\n",
    "dengue_train_cases = pd.read_csv('./dengue_labels_train.csv')\n",
    "#train set (1990-2008) missing target\n",
    "dengue_train = pd.read_csv('./dengue_features_train.csv')"
   ]
  },
  {
   "cell_type": "code",
   "execution_count": 3,
   "metadata": {},
   "outputs": [],
   "source": [
    "#Add the target 'total_cases' to the train set. \n",
    "dengue_merged = pd.merge(dengue_train_cases, dengue_train, on=['city', 'year', 'weekofyear'])"
   ]
  },
  {
   "cell_type": "code",
   "execution_count": 4,
   "metadata": {},
   "outputs": [],
   "source": [
    "#forward fill any missing values with latest value. \"ffill: propagate last valid observation forward to next valid\"\n",
    "dengue_merged.fillna(method='ffill', inplace=True)\n",
    "dengue_test.fillna(method='ffill', inplace=True)"
   ]
  },
  {
   "cell_type": "code",
   "execution_count": 5,
   "metadata": {},
   "outputs": [],
   "source": [
    "dengue_train_sj = dengue_merged[dengue_merged['city']=='sj'].reset_index(drop=True)\n",
    "dengue_test_sj = dengue_test[dengue_test['city']=='sj'].reset_index(drop=True)\n",
    "dengue_train_iq = dengue_merged[(dengue_merged['city']=='iq')&(dengue_merged['year']>2001)].reset_index(drop=True)\n",
    "dengue_test_iq = dengue_test[dengue_test['city']=='iq'].reset_index(drop=True)"
   ]
  },
  {
   "cell_type": "code",
   "execution_count": 7,
   "metadata": {},
   "outputs": [],
   "source": [
    "# save to pickle file\n",
    "dengue_train_sj.to_pickle('./dengue_train_sj.pkl')\n",
    "dengue_test_sj.to_pickle('./dengue_test_sj.pkl')\n",
    "dengue_train_iq.to_pickle('./dengue_train_iq.pkl')\n",
    "dengue_test_iq.to_pickle('./dengue_test_iq.pkl')"
   ]
  },
  {
   "cell_type": "code",
   "execution_count": 8,
   "metadata": {},
   "outputs": [],
   "source": [
    "#ready to use\n",
    "dengue_train_sj = pd.read_pickle('./dengue_train_sj.pkl')\n",
    "dengue_test_sj = pd.read_pickle('./dengue_test_sj.pkl')\n",
    "dengue_train_iq = pd.read_pickle('./dengue_train_iq.pkl')\n",
    "dengue_test_iq = pd.read_pickle('./dengue_test_iq.pkl')"
   ]
  },
  {
   "cell_type": "code",
   "execution_count": null,
   "metadata": {},
   "outputs": [],
   "source": []
  }
 ],
 "metadata": {
  "kernelspec": {
   "display_name": "Python 3",
   "language": "python",
   "name": "python3"
  },
  "language_info": {
   "codemirror_mode": {
    "name": "ipython",
    "version": 3
   },
   "file_extension": ".py",
   "mimetype": "text/x-python",
   "name": "python",
   "nbconvert_exporter": "python",
   "pygments_lexer": "ipython3",
   "version": "3.6.5"
  }
 },
 "nbformat": 4,
 "nbformat_minor": 2
}
