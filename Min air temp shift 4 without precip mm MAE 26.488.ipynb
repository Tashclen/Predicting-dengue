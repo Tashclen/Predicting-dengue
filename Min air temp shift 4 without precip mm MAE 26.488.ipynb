{
 "cells": [
  {
   "cell_type": "code",
   "execution_count": 21,
   "metadata": {},
   "outputs": [],
   "source": [
    "import matplotlib.pyplot as plt\n",
    "import numpy as np\n",
    "import pandas as pd\n",
    "import seaborn as sns\n",
    "\n",
    "sns.set(font_scale=1.5)\n",
    "plt.style.use('fivethirtyeight')\n",
    "\n",
    "from ipywidgets import *\n",
    "from IPython.display import display\n",
    "\n",
    "%matplotlib inline\n",
    "%config InlineBackend.figure_format = 'retina'\n",
    "\n",
    "import warnings\n",
    "warnings.simplefilter('ignore')"
   ]
  },
  {
   "cell_type": "code",
   "execution_count": 22,
   "metadata": {},
   "outputs": [],
   "source": [
    "from sklearn.model_selection import train_test_split, cross_val_score\n",
    "from sklearn.preprocessing import StandardScaler\n",
    "from sklearn.linear_model import LinearRegression, Ridge, Lasso, RidgeCV, LassoCV\n",
    "from sklearn.metrics import mean_absolute_error\n",
    "import datetime\n",
    "from sklearn.ensemble import RandomForestRegressor"
   ]
  },
  {
   "cell_type": "code",
   "execution_count": 23,
   "metadata": {},
   "outputs": [],
   "source": [
    "dengue_train_sj = pd.read_pickle('./dengue_train_sj.pkl')\n",
    "dengue_test_sj = pd.read_pickle('./dengue_test_sj.pkl')\n",
    "dengue_train_iq = pd.read_pickle('./dengue_train_iq.pkl')\n",
    "dengue_test_iq = pd.read_pickle('./dengue_test_iq.pkl')"
   ]
  },
  {
   "cell_type": "code",
   "execution_count": 24,
   "metadata": {},
   "outputs": [],
   "source": [
    "dengue_train_sj['total_cases_shift1'] = dengue_train_sj['total_cases'].shift(1)\n",
    "dengue_train_sj['min_air_shift4'] = dengue_train_sj['reanalysis_min_air_temp_k'].shift(4)\n",
    "dengue_train_sj.fillna(method='bfill', inplace=True)\n",
    "dengue_test_sj['total_cases_shift1'] = 0\n",
    "dengue_test_sj['min_air_shift4'] = 0\n",
    "dengue_train_iq['total_cases_shift1'] = dengue_train_iq['total_cases'].shift(1)\n",
    "dengue_train_iq['min_air_shift4'] = dengue_train_iq['reanalysis_min_air_temp_k'].shift(4)\n",
    "dengue_train_iq.fillna(method='bfill', inplace=True)\n",
    "dengue_test_iq['total_cases_shift1'] = 0\n",
    "dengue_test_iq['min_air_shift4'] = 0"
   ]
  },
  {
   "cell_type": "code",
   "execution_count": 25,
   "metadata": {},
   "outputs": [],
   "source": [
    "dengue_train_merge = pd.concat([dengue_train_sj, dengue_train_iq])"
   ]
  },
  {
   "cell_type": "code",
   "execution_count": 26,
   "metadata": {},
   "outputs": [],
   "source": [
    "X_me = dengue_train_merge[['ndvi_ne', 'ndvi_nw', 'ndvi_se', 'ndvi_sw', \n",
    "       'reanalysis_air_temp_k', 'reanalysis_avg_temp_k',\n",
    "       'reanalysis_dew_point_temp_k', 'reanalysis_max_air_temp_k',\n",
    "       'reanalysis_min_air_temp_k', 'reanalysis_precip_amt_kg_per_m2',\n",
    "       'reanalysis_relative_humidity_percent', 'reanalysis_sat_precip_amt_mm',\n",
    "       'reanalysis_specific_humidity_g_per_kg', 'reanalysis_tdtr_k',\n",
    "       'station_avg_temp_c', 'station_diur_temp_rng_c', 'station_max_temp_c',\n",
    "       'station_min_temp_c', 'station_precip_mm', 'total_cases_shift1', 'min_air_shift4']]\n",
    "y_me = dengue_train_merge.total_cases"
   ]
  },
  {
   "cell_type": "code",
   "execution_count": 27,
   "metadata": {},
   "outputs": [],
   "source": [
    "# standardize the data and fit\n",
    "scaler_me = StandardScaler()\n",
    "X_me = pd.DataFrame(scaler_me.fit_transform(X_me), columns=X_me.columns)"
   ]
  },
  {
   "cell_type": "code",
   "execution_count": 28,
   "metadata": {},
   "outputs": [
    {
     "name": "stdout",
     "output_type": "stream",
     "text": [
      "Score: 0.9864849199101768\n"
     ]
    }
   ],
   "source": [
    "model_me = RandomForestRegressor(n_estimators=100)\n",
    "model_me.fit(X_me, y_me)\n",
    "print(\"Score:\", model_me.score(X_me, y_me))"
   ]
  },
  {
   "cell_type": "code",
   "execution_count": 29,
   "metadata": {},
   "outputs": [],
   "source": [
    "train_pred_me = model_me.predict(X_me)"
   ]
  },
  {
   "cell_type": "code",
   "execution_count": 30,
   "metadata": {},
   "outputs": [],
   "source": [
    "train_pred_me = [int(x) for x in train_pred_me]"
   ]
  },
  {
   "cell_type": "code",
   "execution_count": 31,
   "metadata": {},
   "outputs": [
    {
     "data": {
      "text/plain": [
       "2.6502177068214805"
      ]
     },
     "execution_count": 31,
     "metadata": {},
     "output_type": "execute_result"
    }
   ],
   "source": [
    "mean_absolute_error(y_me, train_pred_me)"
   ]
  },
  {
   "cell_type": "code",
   "execution_count": 32,
   "metadata": {},
   "outputs": [],
   "source": [
    "dengue_test_sj.total_cases_shift1[0] = list(dengue_train_sj.total_cases)[-1]"
   ]
  },
  {
   "cell_type": "code",
   "execution_count": 33,
   "metadata": {},
   "outputs": [],
   "source": [
    "dengue_test_sj.min_air_shift4[0] = list(dengue_train_sj.reanalysis_min_air_temp_k)[-4]\n",
    "dengue_test_sj.min_air_shift4[1] = list(dengue_train_sj.reanalysis_min_air_temp_k)[-3]\n",
    "dengue_test_sj.min_air_shift4[2] = list(dengue_train_sj.reanalysis_min_air_temp_k)[-2]\n",
    "dengue_test_sj.min_air_shift4[3] = list(dengue_train_sj.reanalysis_min_air_temp_k)[-1]"
   ]
  },
  {
   "cell_type": "code",
   "execution_count": 34,
   "metadata": {},
   "outputs": [],
   "source": [
    "dengue_test_iq.total_cases_shift1[0] = list(dengue_train_iq.total_cases)[-1]"
   ]
  },
  {
   "cell_type": "code",
   "execution_count": 35,
   "metadata": {},
   "outputs": [],
   "source": [
    "dengue_test_iq.min_air_shift4[0] = list(dengue_train_iq.reanalysis_min_air_temp_k)[-4]\n",
    "dengue_test_iq.min_air_shift4[1] = list(dengue_train_iq.reanalysis_min_air_temp_k)[-3]\n",
    "dengue_test_iq.min_air_shift4[2] = list(dengue_train_iq.reanalysis_min_air_temp_k)[-2]\n",
    "dengue_test_iq.min_air_shift4[3] = list(dengue_train_iq.reanalysis_min_air_temp_k)[-1]"
   ]
  },
  {
   "cell_type": "code",
   "execution_count": 36,
   "metadata": {},
   "outputs": [],
   "source": [
    "cols_sj = ['ndvi_ne', 'ndvi_nw', 'ndvi_se', 'ndvi_sw', \n",
    "       'reanalysis_air_temp_k', 'reanalysis_avg_temp_k',\n",
    "       'reanalysis_dew_point_temp_k', 'reanalysis_max_air_temp_k',\n",
    "       'reanalysis_min_air_temp_k', 'reanalysis_precip_amt_kg_per_m2',\n",
    "       'reanalysis_relative_humidity_percent', 'reanalysis_sat_precip_amt_mm',\n",
    "       'reanalysis_specific_humidity_g_per_kg', 'reanalysis_tdtr_k',\n",
    "       'station_avg_temp_c', 'station_diur_temp_rng_c', 'station_max_temp_c',\n",
    "       'station_min_temp_c', 'station_precip_mm', 'total_cases_shift1', 'min_air_shift4']"
   ]
  },
  {
   "cell_type": "code",
   "execution_count": 37,
   "metadata": {},
   "outputs": [],
   "source": [
    "cols_iq = ['ndvi_ne', 'ndvi_nw', 'ndvi_se', 'ndvi_sw', \n",
    "       'reanalysis_air_temp_k', 'reanalysis_avg_temp_k',\n",
    "       'reanalysis_dew_point_temp_k', 'reanalysis_max_air_temp_k',\n",
    "       'reanalysis_min_air_temp_k', 'reanalysis_precip_amt_kg_per_m2',\n",
    "       'reanalysis_relative_humidity_percent', 'reanalysis_sat_precip_amt_mm',\n",
    "       'reanalysis_specific_humidity_g_per_kg', 'reanalysis_tdtr_k',\n",
    "       'station_avg_temp_c', 'station_diur_temp_rng_c', 'station_max_temp_c',\n",
    "       'station_min_temp_c', 'station_precip_mm', 'total_cases_shift1', 'min_air_shift4']"
   ]
  },
  {
   "cell_type": "code",
   "execution_count": 38,
   "metadata": {},
   "outputs": [],
   "source": [
    "for index in range(len(dengue_test_sj)):\n",
    "    if model_me.predict(scaler_me.transform(dengue_test_sj.loc[index, cols_sj].values.reshape(1,-1)))[0]>461:\n",
    "        dengue_test_sj.total_cases_shift1[index+1] = 461\n",
    "        dengue_test_sj.min_air_shift4[index+4] = 461\n",
    "    else:\n",
    "        dengue_test_sj.total_cases_shift1[index+1] = \\\n",
    "            int(model_me.predict(scaler_me.transform(dengue_test_sj.loc[index, cols_sj].values.reshape(1,-1)))[0])\n",
    "        dengue_test_sj.min_air_shift4[index+4] = \\\n",
    "            int(model_me.predict(scaler_me.transform(dengue_test_sj.loc[index, cols_sj].values.reshape(1,-1)))[0])\n",
    "\n",
    "for index in range(len(dengue_test_iq)):\n",
    "    if model_me.predict(scaler_me.transform(dengue_test_iq.loc[index, cols_iq].values.reshape(1,-1)))[0]>116:\n",
    "        dengue_test_iq.total_cases_shift1[index+1] = 116\n",
    "        dengue_test_iq.min_air_shift4[index+4] = 116\n",
    "    else:\n",
    "        dengue_test_iq.total_cases_shift1[index+1] = \\\n",
    "            int(model_me.predict(scaler_me.transform(dengue_test_iq.loc[index, cols_sj].values.reshape(1,-1)))[0])\n",
    "        dengue_test_iq.min_air_shift4[index+4] = \\\n",
    "            int(model_me.predict(scaler_me.transform(dengue_test_iq.loc[index, cols_sj].values.reshape(1,-1)))[0])"
   ]
  },
  {
   "cell_type": "code",
   "execution_count": 40,
   "metadata": {},
   "outputs": [],
   "source": [
    "dengue_test_merge = pd.concat([dengue_test_sj, dengue_test_iq])"
   ]
  },
  {
   "cell_type": "code",
   "execution_count": 41,
   "metadata": {},
   "outputs": [],
   "source": [
    "dengue_test_merge.total_cases_shift1 = [0 if x < 0 else x for x in dengue_test_merge.total_cases_shift1]\n",
    "dengue_test_merge.min_air_shift4 = [0 if x < 0 else x for x in dengue_test_merge.min_air_shift4]"
   ]
  },
  {
   "cell_type": "code",
   "execution_count": 42,
   "metadata": {},
   "outputs": [],
   "source": [
    "me_predictions = [int(x) for x in model_me.predict(scaler_me.transform(dengue_test_merge[cols_sj]))]"
   ]
  },
  {
   "cell_type": "code",
   "execution_count": 43,
   "metadata": {},
   "outputs": [],
   "source": [
    "dengue_test_merge['total_cases'] = me_predictions"
   ]
  },
  {
   "cell_type": "code",
   "execution_count": 44,
   "metadata": {},
   "outputs": [],
   "source": [
    "submission_cols = ['city', 'year', 'weekofyear', 'total_cases']"
   ]
  },
  {
   "cell_type": "code",
   "execution_count": 45,
   "metadata": {},
   "outputs": [],
   "source": [
    "submission = dengue_test_merge[submission_cols]"
   ]
  },
  {
   "cell_type": "code",
   "execution_count": 48,
   "metadata": {},
   "outputs": [
    {
     "data": {
      "text/html": [
       "<div>\n",
       "<style scoped>\n",
       "    .dataframe tbody tr th:only-of-type {\n",
       "        vertical-align: middle;\n",
       "    }\n",
       "\n",
       "    .dataframe tbody tr th {\n",
       "        vertical-align: top;\n",
       "    }\n",
       "\n",
       "    .dataframe thead th {\n",
       "        text-align: right;\n",
       "    }\n",
       "</style>\n",
       "<table border=\"1\" class=\"dataframe\">\n",
       "  <thead>\n",
       "    <tr style=\"text-align: right;\">\n",
       "      <th></th>\n",
       "      <th>city</th>\n",
       "      <th>year</th>\n",
       "      <th>weekofyear</th>\n",
       "      <th>total_cases</th>\n",
       "    </tr>\n",
       "  </thead>\n",
       "  <tbody>\n",
       "    <tr>\n",
       "      <th>0</th>\n",
       "      <td>sj</td>\n",
       "      <td>2008</td>\n",
       "      <td>18</td>\n",
       "      <td>6</td>\n",
       "    </tr>\n",
       "    <tr>\n",
       "      <th>1</th>\n",
       "      <td>sj</td>\n",
       "      <td>2008</td>\n",
       "      <td>19</td>\n",
       "      <td>6</td>\n",
       "    </tr>\n",
       "    <tr>\n",
       "      <th>2</th>\n",
       "      <td>sj</td>\n",
       "      <td>2008</td>\n",
       "      <td>20</td>\n",
       "      <td>6</td>\n",
       "    </tr>\n",
       "    <tr>\n",
       "      <th>3</th>\n",
       "      <td>sj</td>\n",
       "      <td>2008</td>\n",
       "      <td>21</td>\n",
       "      <td>7</td>\n",
       "    </tr>\n",
       "    <tr>\n",
       "      <th>4</th>\n",
       "      <td>sj</td>\n",
       "      <td>2008</td>\n",
       "      <td>22</td>\n",
       "      <td>9</td>\n",
       "    </tr>\n",
       "  </tbody>\n",
       "</table>\n",
       "</div>"
      ],
      "text/plain": [
       "  city  year  weekofyear  total_cases\n",
       "0   sj  2008          18            6\n",
       "1   sj  2008          19            6\n",
       "2   sj  2008          20            6\n",
       "3   sj  2008          21            7\n",
       "4   sj  2008          22            9"
      ]
     },
     "execution_count": 48,
     "metadata": {},
     "output_type": "execute_result"
    }
   ],
   "source": [
    "submission.head()"
   ]
  },
  {
   "cell_type": "code",
   "execution_count": 49,
   "metadata": {},
   "outputs": [],
   "source": [
    "submission.to_csv('natasha_dengue_minairtempk4.csv', index=False)"
   ]
  },
  {
   "cell_type": "code",
   "execution_count": null,
   "metadata": {},
   "outputs": [],
   "source": []
  }
 ],
 "metadata": {
  "kernelspec": {
   "display_name": "Python 3",
   "language": "python",
   "name": "python3"
  },
  "language_info": {
   "codemirror_mode": {
    "name": "ipython",
    "version": 3
   },
   "file_extension": ".py",
   "mimetype": "text/x-python",
   "name": "python",
   "nbconvert_exporter": "python",
   "pygments_lexer": "ipython3",
   "version": "3.6.5"
  }
 },
 "nbformat": 4,
 "nbformat_minor": 2
}
